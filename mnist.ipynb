{
 "cells": [
  {
   "cell_type": "code",
   "execution_count": 1,
   "metadata": {},
   "outputs": [
    {
     "data": {
      "text/plain": [
       "<torch._C.Generator at 0x2606392ebf0>"
      ]
     },
     "execution_count": 1,
     "metadata": {},
     "output_type": "execute_result"
    }
   ],
   "source": [
    "%matplotlib inline\n",
    "from matplotlib import pyplot as plt\n",
    "import numpy as np\n",
    "import collections\n",
    "\n",
    "import torch\n",
    "import torch.nn as nn\n",
    "import torch.nn.functional as F\n",
    "import torch.optim as optim\n",
    "\n",
    "torch.set_printoptions(edgeitems=2)\n",
    "torch.manual_seed(123)"
   ]
  },
  {
   "cell_type": "code",
   "execution_count": 2,
   "metadata": {},
   "outputs": [],
   "source": [
    "from torchvision import datasets, transforms\n",
    "data_path = './data/'\n",
    "mnist_train = datasets.MNIST(\n",
    "    data_path, train=True, download=True,\n",
    "    transform=transforms.Compose([\n",
    "        transforms.ToTensor()\n",
    "    ]))"
   ]
  },
  {
   "cell_type": "code",
   "execution_count": 3,
   "metadata": {},
   "outputs": [
    {
     "data": {
      "image/png": "[encoded data removed]",
      "text/plain": [
       "<Figure size 640x480 with 1 Axes>"
      ]
     },
     "metadata": {},
     "output_type": "display_data"
    },
    {
     "data": {
      "text/plain": [
       "(tensor(0.1424), tensor(0.3216), tensor(0.), tensor(1.))"
      ]
     },
     "execution_count": 3,
     "metadata": {},
     "output_type": "execute_result"
    }
   ],
   "source": [
    "import matplotlib.pyplot as plt\n",
    "\n",
    "# Select a random image from the dataset\n",
    "index = 10000\n",
    "image, label = mnist_train[index]\n",
    "\n",
    "# Plot the image\n",
    "plt.imshow(image.squeeze())\n",
    "plt.title(f'Label: {label}')\n",
    "plt.axis('off')\n",
    "plt.show()\n",
    "image.mean(), image.std(), image.min(), image.max()\n"
   ]
  },
  {
   "cell_type": "code",
   "execution_count": 4,
   "metadata": {},
   "outputs": [
    {
     "data": {
      "text/plain": [
       "(torch.Size([1, 28, 28, 60000]), torch.Size([1, 50]))"
      ]
     },
     "execution_count": 4,
     "metadata": {},
     "output_type": "execute_result"
    }
   ],
   "source": [
    "imgs = torch.stack([img for img, _ in mnist_train], dim = 3)"
   ]
  },
  {
   "cell_type": "code",
   "execution_count": 5,
   "metadata": {},
   "outputs": [
    {
     "data": {
      "text/plain": [
       "(0.13066047430038452, 0.30810782313346863)"
      ]
     },
     "execution_count": 5,
     "metadata": {},
     "output_type": "execute_result"
    }
   ],
   "source": [
    "mean = imgs.view(1,-1).mean(dim=1).item()\n",
    "std = imgs.view(1,-1).std().item()\n",
    "mean, std"
   ]
  },
  {
   "cell_type": "code",
   "execution_count": 6,
   "metadata": {},
   "outputs": [
    {
     "data": {
      "image/png": "[encoded data removed]",
      "text/plain": [
       "<Figure size 640x480 with 1 Axes>"
      ]
     },
     "metadata": {},
     "output_type": "display_data"
    },
    {
     "name": "stdout",
     "output_type": "stream",
     "text": [
      "Minimum value: -0.42407387495040894\n",
      "Maximum value: 2.8215432167053223\n",
      "Mean of normalized images: 3.720237984339292e-08\n",
      "Standard deviation of normalized images: 0.9999999403953552\n"
     ]
    }
   ],
   "source": [
    "transform = transforms.Compose([\n",
    "    transforms.ToTensor(),\n",
    "    transforms.Normalize(mean, std)\n",
    "])\n",
    "\n",
    "mnist_train_normalized = datasets.MNIST(\n",
    "    data_path, train=True, download=True,\n",
    "    transform=transform\n",
    ")\n",
    "\n",
    "imgs_train_normalized = torch.stack([img for img, _ in mnist_train_normalized], dim = 3)\n",
    "\n",
    "index = 10000\n",
    "image2, label2 = mnist_train_normalized[index]\n",
    "plt.imshow(image.squeeze(), cmap='gray')\n",
    "plt.title(f'Label: {label2}')\n",
    "plt.axis('off')\n",
    "plt.show()\n",
    "min_value = torch.min(imgs_train_normalized)\n",
    "max_value = torch.max(imgs_train_normalized)\n",
    "mean_normalized = imgs_train_normalized.view(1, -1).mean(dim=1).item()\n",
    "std_normalized = imgs_train_normalized.view(1, -1).std().item()\n",
    "print(\"Minimum value:\", min_value.item())\n",
    "print(\"Maximum value:\", max_value.item())\n",
    "print(\"Mean of normalized images:\", mean_normalized)\n",
    "print(\"Standard deviation of normalized images:\", std_normalized)\n",
    "\n"
   ]
  },
  {
   "cell_type": "code",
   "execution_count": 7,
   "metadata": {},
   "outputs": [],
   "source": [
    "mnist_val_normalized = datasets.MNIST(\n",
    "    data_path, train=False, download=True,\n",
    "    transform=transform\n",
    ")"
   ]
  },
  {
   "cell_type": "code",
   "execution_count": 8,
   "metadata": {},
   "outputs": [
    {
     "data": {
      "text/plain": [
       "tensor([[ 0.2051, -0.0413,  0.0378, -0.1080, -0.0290, -0.0849, -0.0929,  0.0601,\n",
       "         -0.3156, -0.0425]], grad_fn=<AddmmBackward0>)"
      ]
     },
     "execution_count": 8,
     "metadata": {},
     "output_type": "execute_result"
    }
   ],
   "source": [
    "import torch.nn.functional as F\n",
    "\n",
    "class Net(nn.Module):\n",
    "    def __init__(self):\n",
    "        super().__init__()\n",
    "        self.conv1 = nn.Conv2d(1, 16, kernel_size=3, padding=1)\n",
    "        self.conv2 = nn.Conv2d(16, 8, kernel_size=3, padding=1)\n",
    "        self.fc1 = nn.Linear(8 * 7 * 7, 32)  # Adjusted input size\n",
    "        self.fc2 = nn.Linear(32, 10)  # Adjusted output size\n",
    "        \n",
    "    def forward(self, x):\n",
    "        out = F.max_pool2d(torch.tanh(self.conv1(x)), 2)\n",
    "        out = F.max_pool2d(torch.tanh(self.conv2(out)), 2)\n",
    "        out = out.view(-1, 8 * 7 * 7)  # Adjusted input size\n",
    "        out = torch.tanh(self.fc1(out))\n",
    "        out = self.fc2(out)\n",
    "        return out\n",
    "\n",
    "model = Net()\n",
    "model(image2.unsqueeze(0))\n",
    "\n"
   ]
  },
  {
   "cell_type": "code",
   "execution_count": 9,
   "metadata": {},
   "outputs": [
    {
     "name": "stdout",
     "output_type": "stream",
     "text": [
      "Training on device cuda.\n"
     ]
    }
   ],
   "source": [
    "import datetime\n",
    "device = (torch.device('cuda') if torch.cuda.is_available()\n",
    "          else torch.device('cpu'))\n",
    "print(f\"Training on device {device}.\")\n",
    "def training_loop(n_epochs, optimizer, model, loss_fn, train_loader):\n",
    "    param_dict = {}\n",
    "    for epoch in range(1, n_epochs + 1):\n",
    "        loss_train = 0.0\n",
    "        for imgs, labels in train_loader:\n",
    "            imgs = imgs.to(device=device)\n",
    "            labels = labels.to(device=device)\n",
    "            outputs = model(imgs)\n",
    "            loss = loss_fn(outputs, labels)\n",
    "\n",
    "            optimizer.zero_grad()\n",
    "            loss.backward()\n",
    "            optimizer.step()\n",
    "\n",
    "            loss_train += loss.item()\n",
    "        param_dict[epoch] = [x.cpu().detach().numpy() for x in list(model.parameters())]\n",
    "        print('{} Epoch {}, Training loss {}'.format(\n",
    "            datetime.datetime.now(), epoch,\n",
    "            loss_train / len(train_loader)))\n",
    "    return param_dict"
   ]
  },
  {
   "cell_type": "code",
   "execution_count": 12,
   "metadata": {},
   "outputs": [
    {
     "name": "stdout",
     "output_type": "stream",
     "text": [
      "2024-02-22 13:40:15.287845 Epoch 1, Training loss 1.3366100071971097\n",
      "2024-02-22 13:40:30.375702 Epoch 2, Training loss 0.5010160300999816\n",
      "2024-02-22 13:40:45.569902 Epoch 3, Training loss 0.3381729826553544\n",
      "2024-02-22 13:40:58.683271 Epoch 4, Training loss 0.26969613369180956\n",
      "2024-02-22 13:41:13.856547 Epoch 5, Training loss 0.22788358435257158\n"
     ]
    }
   ],
   "source": [
    "train_loader = torch.utils.data.DataLoader(mnist_train_normalized, batch_size=64,\n",
    "                                           shuffle=True)\n",
    "\n",
    "model = Net().to(device=device)  # <1>\n",
    "optimizer = optim.SGD(model.parameters(), lr=1e-2)\n",
    "loss_fn = nn.CrossEntropyLoss()\n",
    "\n",
    "params = training_loop(\n",
    "    n_epochs = 5,\n",
    "    optimizer = optimizer,\n",
    "    model = model,\n",
    "    loss_fn = loss_fn,\n",
    "    train_loader = train_loader,\n",
    ")"
   ]
  },
  {
   "cell_type": "code",
   "execution_count": 13,
   "metadata": {},
   "outputs": [
    {
     "name": "stdout",
     "output_type": "stream",
     "text": [
      "Accuracy train: 0.94140\n",
      "Accuracy val: 0.94450\n"
     ]
    },
    {
     "data": {
      "text/plain": [
       "(14226, [144, 16, 1152, 8, 12544, 32, 320, 10])"
      ]
     },
     "execution_count": 13,
     "metadata": {},
     "output_type": "execute_result"
    }
   ],
   "source": [
    "train_loader = torch.utils.data.DataLoader(mnist_train_normalized, batch_size=64,\n",
    "                                           shuffle=False)\n",
    "val_loader = torch.utils.data.DataLoader(mnist_val_normalized, batch_size=64,\n",
    "                                         shuffle=False)\n",
    "\n",
    "def validate(model, train_loader, val_loader):\n",
    "    accdict = {}\n",
    "    for name, loader in [(\"train\", train_loader), (\"val\", val_loader)]:\n",
    "        correct = 0\n",
    "        total = 0\n",
    "\n",
    "        with torch.no_grad():\n",
    "            for imgs, labels in loader:\n",
    "                imgs = imgs.to(device=device)\n",
    "                labels = labels.to(device=device)\n",
    "                outputs = model(imgs)\n",
    "                _, predicted = torch.max(outputs, dim=1) # <1>\n",
    "                total += labels.shape[0]\n",
    "                correct += int((predicted == labels).sum())\n",
    "\n",
    "        print(\"Accuracy {}: {:.5f}\".format(name , correct / total))\n",
    "        accdict[name] = correct / total\n",
    "    return accdict\n",
    "\n",
    "validate(model, train_loader, val_loader)\n",
    "numel_list = [p.numel() for p in model.parameters()]\n",
    "sum(numel_list), numel_list"
   ]
  },
  {
   "cell_type": "code",
   "execution_count": 57,
   "metadata": {},
   "outputs": [],
   "source": [
    "def translate_layer_params(layer_params_array):\n",
    "    #this function will return a dictionary where the key will be the index of the parameter and the value will be the parameter itself, having in mind some arrays will be 2 dimetional\n",
    "    translated_params = {}\n",
    "    for i in range(layer_params_array.shape[0]):\n",
    "        if len(layer_params_array.shape) == 1:\n",
    "            translated_params[i] = layer_params_array[i]\n",
    "        elif len(layer_params_array.shape) == 2:\n",
    "            for j in range(layer_params_array[i].shape[0]):\n",
    "                translated_params[(i,j)] = layer_params_array[i][j]\n",
    "        else:\n",
    "            layer_params_array = layer_params_array.reshape(layer_params_array.shape[0], -1)\n",
    "            for j in range(layer_params_array[i].shape[0]):\n",
    "                translated_params[(i,j)] = layer_params_array[i][j]\n",
    "    return translated_params\n",
    "\n",
    "def translate_params_epoch(params_epoch):\n",
    "    all_translated_layers = []\n",
    "    for layer in params_epoch:\n",
    "        all_translated_layers.append(translate_layer_params(layer))\n",
    "    return all_translated_layers\n",
    "\n",
    "def translate_params(params_dict):\n",
    "    all_translated_epochs = []\n",
    "    for epoch in params_dict:\n",
    "        all_translated_epochs.append(translate_params_epoch(params_dict[epoch]))\n",
    "    return all_translated_epochs\n"
   ]
  },
  {
   "cell_type": "code",
   "execution_count": 65,
   "metadata": {},
   "outputs": [],
   "source": [
    "def plot_epoch_wave(all_epochs, epoch):\n",
    "    for layer in range(len(all_epochs[epoch])):\n",
    "        plt.plot(all_epochs[epoch][layer].values(), label = f'Layer {layer}')\n",
    "    plt.legend()\n",
    "    plt.show()\n",
    "\n",
    "def plot_epoch_design(all_epochs, epoch):\n",
    "    x_positions = []\n",
    "    y_positions = []\n",
    "    offset = 0\n",
    "    for layer in range(len(all_epochs[epoch])):\n",
    "        if type(layer.keys()[0]) == int:\n",
    "            for i in range(len(layer.keys())):\n",
    "                x_positions.append(offset)\n",
    "                y_positions.append(layer.values()[i])\n",
    "        \n"
   ]
  },
  {
   "cell_type": "code",
   "execution_count": 64,
   "metadata": {},
   "outputs": [
    {
     "data": {
      "image/png": "[encoded data removed]",
      "text/plain": [
       "<Figure size 640x480 with 1 Axes>"
      ]
     },
     "metadata": {},
     "output_type": "display_data"
    }
   ],
   "source": []
  }
 ],
 "metadata": {
  "kernelspec": {
   "display_name": "base",
   "language": "python",
   "name": "python3"
  },
  "language_info": {
   "codemirror_mode": {
    "name": "ipython",
    "version": 3
   },
   "file_extension": ".py",
   "mimetype": "text/x-python",
   "name": "python",
   "nbconvert_exporter": "python",
   "pygments_lexer": "ipython3",
   "version": "3.11.5"
  }
 },
 "nbformat": 4,
 "nbformat_minor": 2
}
